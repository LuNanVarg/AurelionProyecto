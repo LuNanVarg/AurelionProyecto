{
 "cells": [
  {
   "cell_type": "markdown",
   "id": "68a403ef",
   "metadata": {},
   "source": [
    "# 🚀 Proyecto Aurelion - Análisis de Ventas\n",
    "\n",
    "Este notebook muestra un análisis exploratorio de los datos del sistema **Aurelion**.  \n",
    "Trabajaremos con los archivos CSV de **clientes, productos, ventas y detalle de ventas**, \n",
    "para obtener información como:\n",
    "\n",
    "- 💰 Venta total  \n",
    "- 🏆 Productos más vendidos  \n",
    "- 👥 Mejores clientes  \n",
    "- 📊 Total de clientes y resumen general  \n",
    "\n",
    "---"
   ]
  },
  {
   "cell_type": "code",
   "execution_count": 14,
   "id": "98ce2f72",
   "metadata": {},
   "outputs": [
    {
     "name": "stdout",
     "output_type": "stream",
     "text": [
      "✅ Archivos cargados correctamente.\n",
      " Columnas de detalle_ventas: ['id_venta', 'id_producto', 'nombre_producto', 'cantidad', 'precio_unitario', 'importe']\n"
     ]
    }
   ],
   "source": [
    "import os\n",
    "import pandas as pd\n",
    "import matplotlib.pyplot as plt\n",
    "\n",
    "# Configurar visualización\n",
    "plt.style.use('seaborn-v0_8')\n",
    "plt.rcParams['figure.figsize'] = (8,4)\n",
    "\n",
    "# Ruta base\n",
    "ruta_base = r\"C:\\Users\\Luna\\Desktop\\Guayerd\\AurelionProyecto\\Aurelion\"\n",
    "\n",
    "# Leer archivos CSV\n",
    "clientes = pd.read_csv(os.path.join(ruta_base, \"clientes.csv\"))\n",
    "productos = pd.read_csv(os.path.join(ruta_base, \"productos.csv\"))\n",
    "ventas = pd.read_csv(os.path.join(ruta_base, \"ventas.csv\"))\n",
    "detalle = pd.read_csv(os.path.join(ruta_base, \"detalle_ventas.csv\"))\n",
    "\n",
    "print(\"✅ Archivos cargados correctamente.\")\n",
    "print(\" Columnas de detalle_ventas:\", detalle.columns.tolist())"
   ]
  },
  {
   "cell_type": "markdown",
   "id": "58d65659",
   "metadata": {},
   "source": [
    "## 👀 Vista previa de los datos\n",
    "\n",
    "Veamos las primeras filas de cada archivo para conocer su estructura."
   ]
  },
  {
   "cell_type": "code",
   "execution_count": 18,
   "id": "7f7713aa",
   "metadata": {},
   "outputs": [
    {
     "data": {
      "application/vnd.microsoft.datawrangler.viewer.v0+json": {
       "columns": [
        {
         "name": "index",
         "rawType": "int64",
         "type": "integer"
        },
        {
         "name": "id_venta",
         "rawType": "int64",
         "type": "integer"
        },
        {
         "name": "id_producto",
         "rawType": "int64",
         "type": "integer"
        },
        {
         "name": "nombre_producto",
         "rawType": "object",
         "type": "string"
        },
        {
         "name": "cantidad",
         "rawType": "int64",
         "type": "integer"
        },
        {
         "name": "precio_unitario",
         "rawType": "object",
         "type": "string"
        },
        {
         "name": "importe",
         "rawType": "object",
         "type": "string"
        },
        {
         "name": "total",
         "rawType": "object",
         "type": "string"
        }
       ],
       "ref": "af1728c6-0e0a-47a7-804b-4fd422e47a74",
       "rows": [
        [
         "0",
         "1",
         "90",
         "Toallas Húmedas x50",
         "1",
         "2,902",
         "2,902",
         "2,902"
        ],
        [
         "1",
         "2",
         "82",
         "Aceitunas Negras 200g",
         "5",
         "2,394",
         "11,970",
         "2,3942,3942,3942,3942,394"
        ],
        [
         "2",
         "2",
         "39",
         "Helado Vainilla 1L",
         "5",
         "469",
         "2,345",
         "469469469469469"
        ],
        [
         "3",
         "2",
         "70",
         "Fernet 750ml",
         "2",
         "4,061",
         "8,122",
         "4,0614,061"
        ],
        [
         "4",
         "2",
         "22",
         "Medialunas de Manteca",
         "1",
         "2,069",
         "2,069",
         "2,069"
        ]
       ],
       "shape": {
        "columns": 7,
        "rows": 5
       }
      },
      "text/html": [
       "<div>\n",
       "<style scoped>\n",
       "    .dataframe tbody tr th:only-of-type {\n",
       "        vertical-align: middle;\n",
       "    }\n",
       "\n",
       "    .dataframe tbody tr th {\n",
       "        vertical-align: top;\n",
       "    }\n",
       "\n",
       "    .dataframe thead th {\n",
       "        text-align: right;\n",
       "    }\n",
       "</style>\n",
       "<table border=\"1\" class=\"dataframe\">\n",
       "  <thead>\n",
       "    <tr style=\"text-align: right;\">\n",
       "      <th></th>\n",
       "      <th>id_venta</th>\n",
       "      <th>id_producto</th>\n",
       "      <th>nombre_producto</th>\n",
       "      <th>cantidad</th>\n",
       "      <th>precio_unitario</th>\n",
       "      <th>importe</th>\n",
       "      <th>total</th>\n",
       "    </tr>\n",
       "  </thead>\n",
       "  <tbody>\n",
       "    <tr>\n",
       "      <th>0</th>\n",
       "      <td>1</td>\n",
       "      <td>90</td>\n",
       "      <td>Toallas Húmedas x50</td>\n",
       "      <td>1</td>\n",
       "      <td>2,902</td>\n",
       "      <td>2,902</td>\n",
       "      <td>2,902</td>\n",
       "    </tr>\n",
       "    <tr>\n",
       "      <th>1</th>\n",
       "      <td>2</td>\n",
       "      <td>82</td>\n",
       "      <td>Aceitunas Negras 200g</td>\n",
       "      <td>5</td>\n",
       "      <td>2,394</td>\n",
       "      <td>11,970</td>\n",
       "      <td>2,3942,3942,3942,3942,394</td>\n",
       "    </tr>\n",
       "    <tr>\n",
       "      <th>2</th>\n",
       "      <td>2</td>\n",
       "      <td>39</td>\n",
       "      <td>Helado Vainilla 1L</td>\n",
       "      <td>5</td>\n",
       "      <td>469</td>\n",
       "      <td>2,345</td>\n",
       "      <td>469469469469469</td>\n",
       "    </tr>\n",
       "    <tr>\n",
       "      <th>3</th>\n",
       "      <td>2</td>\n",
       "      <td>70</td>\n",
       "      <td>Fernet 750ml</td>\n",
       "      <td>2</td>\n",
       "      <td>4,061</td>\n",
       "      <td>8,122</td>\n",
       "      <td>4,0614,061</td>\n",
       "    </tr>\n",
       "    <tr>\n",
       "      <th>4</th>\n",
       "      <td>2</td>\n",
       "      <td>22</td>\n",
       "      <td>Medialunas de Manteca</td>\n",
       "      <td>1</td>\n",
       "      <td>2,069</td>\n",
       "      <td>2,069</td>\n",
       "      <td>2,069</td>\n",
       "    </tr>\n",
       "  </tbody>\n",
       "</table>\n",
       "</div>"
      ],
      "text/plain": [
       "   id_venta  id_producto        nombre_producto  cantidad precio_unitario  \\\n",
       "0         1           90    Toallas Húmedas x50         1           2,902   \n",
       "1         2           82  Aceitunas Negras 200g         5           2,394   \n",
       "2         2           39     Helado Vainilla 1L         5             469   \n",
       "3         2           70           Fernet 750ml         2           4,061   \n",
       "4         2           22  Medialunas de Manteca         1           2,069   \n",
       "\n",
       "  importe                      total  \n",
       "0   2,902                      2,902  \n",
       "1  11,970  2,3942,3942,3942,3942,394  \n",
       "2   2,345            469469469469469  \n",
       "3   8,122                 4,0614,061  \n",
       "4   2,069                      2,069  "
      ]
     },
     "execution_count": 18,
     "metadata": {},
     "output_type": "execute_result"
    }
   ],
   "source": [
    "# Crear columna total = cantidad × precio_unitario\n",
    "detalle[\"total\"] = detalle[\"cantidad\"] * detalle[\"precio_unitario\"]\n",
    "\n",
    "# Verificar el cálculo\n",
    "detalle.head()"
   ]
  },
  {
   "cell_type": "code",
   "execution_count": 19,
   "id": "76df83bd",
   "metadata": {},
   "outputs": [
    {
     "data": {
      "application/vnd.microsoft.datawrangler.viewer.v0+json": {
       "columns": [
        {
         "name": "index",
         "rawType": "int64",
         "type": "integer"
        },
        {
         "name": "id_venta",
         "rawType": "int64",
         "type": "integer"
        },
        {
         "name": "id_producto",
         "rawType": "int64",
         "type": "integer"
        },
        {
         "name": "nombre_producto_x",
         "rawType": "object",
         "type": "string"
        },
        {
         "name": "cantidad",
         "rawType": "int64",
         "type": "integer"
        },
        {
         "name": "precio_unitario_x",
         "rawType": "object",
         "type": "string"
        },
        {
         "name": "importe",
         "rawType": "object",
         "type": "string"
        },
        {
         "name": "total",
         "rawType": "object",
         "type": "string"
        },
        {
         "name": "nombre_producto_y",
         "rawType": "object",
         "type": "string"
        },
        {
         "name": "categoria",
         "rawType": "object",
         "type": "string"
        },
        {
         "name": "precio_unitario_y",
         "rawType": "int64",
         "type": "integer"
        },
        {
         "name": "fecha",
         "rawType": "object",
         "type": "string"
        },
        {
         "name": "id_cliente",
         "rawType": "int64",
         "type": "integer"
        },
        {
         "name": "nombre_cliente_x",
         "rawType": "object",
         "type": "string"
        },
        {
         "name": "email_x",
         "rawType": "object",
         "type": "string"
        },
        {
         "name": "medio_pago",
         "rawType": "object",
         "type": "string"
        },
        {
         "name": "nombre_cliente_y",
         "rawType": "object",
         "type": "string"
        },
        {
         "name": "email_y",
         "rawType": "object",
         "type": "string"
        },
        {
         "name": "ciudad",
         "rawType": "object",
         "type": "string"
        },
        {
         "name": "fecha_alta",
         "rawType": "object",
         "type": "string"
        }
       ],
       "ref": "beef8712-4059-476e-a9c2-65134830e04f",
       "rows": [
        [
         "0",
         "1",
         "90",
         "Toallas Húmedas x50",
         "1",
         "2,902",
         "2,902",
         "2,902",
         "Toallas Húmedas x50",
         "Limpieza",
         "2902",
         "2024-06-19",
         "62",
         "Guadalupe Romero",
         "guadalupe.romero@mail.com",
         "tarjeta",
         "Guadalupe Romero",
         "guadalupe.romero@mail.com",
         "Carlos Paz",
         "2023-03-03"
        ],
        [
         "1",
         "2",
         "82",
         "Aceitunas Negras 200g",
         "5",
         "2,394",
         "11,970",
         "2,3942,3942,3942,3942,394",
         "Aceitunas Negras 200g",
         "Limpieza",
         "2394",
         "2024-03-17",
         "49",
         "Olivia Gomez",
         "olivia.gomez@mail.com",
         "qr",
         "Olivia Gomez",
         "olivia.gomez@mail.com",
         "Rio Cuarto",
         "2023-02-18"
        ],
        [
         "2",
         "2",
         "39",
         "Helado Vainilla 1L",
         "5",
         "469",
         "2,345",
         "469469469469469",
         "Helado Vainilla 1L",
         "Alimentos",
         "469",
         "2024-03-17",
         "49",
         "Olivia Gomez",
         "olivia.gomez@mail.com",
         "qr",
         "Olivia Gomez",
         "olivia.gomez@mail.com",
         "Rio Cuarto",
         "2023-02-18"
        ],
        [
         "3",
         "2",
         "70",
         "Fernet 750ml",
         "2",
         "4,061",
         "8,122",
         "4,0614,061",
         "Fernet 750ml",
         "Limpieza",
         "4061",
         "2024-03-17",
         "49",
         "Olivia Gomez",
         "olivia.gomez@mail.com",
         "qr",
         "Olivia Gomez",
         "olivia.gomez@mail.com",
         "Rio Cuarto",
         "2023-02-18"
        ],
        [
         "4",
         "2",
         "22",
         "Medialunas de Manteca",
         "1",
         "2,069",
         "2,069",
         "2,069",
         "Medialunas de Manteca",
         "Limpieza",
         "2069",
         "2024-03-17",
         "49",
         "Olivia Gomez",
         "olivia.gomez@mail.com",
         "qr",
         "Olivia Gomez",
         "olivia.gomez@mail.com",
         "Rio Cuarto",
         "2023-02-18"
        ]
       ],
       "shape": {
        "columns": 19,
        "rows": 5
       }
      },
      "text/html": [
       "<div>\n",
       "<style scoped>\n",
       "    .dataframe tbody tr th:only-of-type {\n",
       "        vertical-align: middle;\n",
       "    }\n",
       "\n",
       "    .dataframe tbody tr th {\n",
       "        vertical-align: top;\n",
       "    }\n",
       "\n",
       "    .dataframe thead th {\n",
       "        text-align: right;\n",
       "    }\n",
       "</style>\n",
       "<table border=\"1\" class=\"dataframe\">\n",
       "  <thead>\n",
       "    <tr style=\"text-align: right;\">\n",
       "      <th></th>\n",
       "      <th>id_venta</th>\n",
       "      <th>id_producto</th>\n",
       "      <th>nombre_producto_x</th>\n",
       "      <th>cantidad</th>\n",
       "      <th>precio_unitario_x</th>\n",
       "      <th>importe</th>\n",
       "      <th>total</th>\n",
       "      <th>nombre_producto_y</th>\n",
       "      <th>categoria</th>\n",
       "      <th>precio_unitario_y</th>\n",
       "      <th>fecha</th>\n",
       "      <th>id_cliente</th>\n",
       "      <th>nombre_cliente_x</th>\n",
       "      <th>email_x</th>\n",
       "      <th>medio_pago</th>\n",
       "      <th>nombre_cliente_y</th>\n",
       "      <th>email_y</th>\n",
       "      <th>ciudad</th>\n",
       "      <th>fecha_alta</th>\n",
       "    </tr>\n",
       "  </thead>\n",
       "  <tbody>\n",
       "    <tr>\n",
       "      <th>0</th>\n",
       "      <td>1</td>\n",
       "      <td>90</td>\n",
       "      <td>Toallas Húmedas x50</td>\n",
       "      <td>1</td>\n",
       "      <td>2,902</td>\n",
       "      <td>2,902</td>\n",
       "      <td>2,902</td>\n",
       "      <td>Toallas Húmedas x50</td>\n",
       "      <td>Limpieza</td>\n",
       "      <td>2902</td>\n",
       "      <td>2024-06-19</td>\n",
       "      <td>62</td>\n",
       "      <td>Guadalupe Romero</td>\n",
       "      <td>guadalupe.romero@mail.com</td>\n",
       "      <td>tarjeta</td>\n",
       "      <td>Guadalupe Romero</td>\n",
       "      <td>guadalupe.romero@mail.com</td>\n",
       "      <td>Carlos Paz</td>\n",
       "      <td>2023-03-03</td>\n",
       "    </tr>\n",
       "    <tr>\n",
       "      <th>1</th>\n",
       "      <td>2</td>\n",
       "      <td>82</td>\n",
       "      <td>Aceitunas Negras 200g</td>\n",
       "      <td>5</td>\n",
       "      <td>2,394</td>\n",
       "      <td>11,970</td>\n",
       "      <td>2,3942,3942,3942,3942,394</td>\n",
       "      <td>Aceitunas Negras 200g</td>\n",
       "      <td>Limpieza</td>\n",
       "      <td>2394</td>\n",
       "      <td>2024-03-17</td>\n",
       "      <td>49</td>\n",
       "      <td>Olivia Gomez</td>\n",
       "      <td>olivia.gomez@mail.com</td>\n",
       "      <td>qr</td>\n",
       "      <td>Olivia Gomez</td>\n",
       "      <td>olivia.gomez@mail.com</td>\n",
       "      <td>Rio Cuarto</td>\n",
       "      <td>2023-02-18</td>\n",
       "    </tr>\n",
       "    <tr>\n",
       "      <th>2</th>\n",
       "      <td>2</td>\n",
       "      <td>39</td>\n",
       "      <td>Helado Vainilla 1L</td>\n",
       "      <td>5</td>\n",
       "      <td>469</td>\n",
       "      <td>2,345</td>\n",
       "      <td>469469469469469</td>\n",
       "      <td>Helado Vainilla 1L</td>\n",
       "      <td>Alimentos</td>\n",
       "      <td>469</td>\n",
       "      <td>2024-03-17</td>\n",
       "      <td>49</td>\n",
       "      <td>Olivia Gomez</td>\n",
       "      <td>olivia.gomez@mail.com</td>\n",
       "      <td>qr</td>\n",
       "      <td>Olivia Gomez</td>\n",
       "      <td>olivia.gomez@mail.com</td>\n",
       "      <td>Rio Cuarto</td>\n",
       "      <td>2023-02-18</td>\n",
       "    </tr>\n",
       "    <tr>\n",
       "      <th>3</th>\n",
       "      <td>2</td>\n",
       "      <td>70</td>\n",
       "      <td>Fernet 750ml</td>\n",
       "      <td>2</td>\n",
       "      <td>4,061</td>\n",
       "      <td>8,122</td>\n",
       "      <td>4,0614,061</td>\n",
       "      <td>Fernet 750ml</td>\n",
       "      <td>Limpieza</td>\n",
       "      <td>4061</td>\n",
       "      <td>2024-03-17</td>\n",
       "      <td>49</td>\n",
       "      <td>Olivia Gomez</td>\n",
       "      <td>olivia.gomez@mail.com</td>\n",
       "      <td>qr</td>\n",
       "      <td>Olivia Gomez</td>\n",
       "      <td>olivia.gomez@mail.com</td>\n",
       "      <td>Rio Cuarto</td>\n",
       "      <td>2023-02-18</td>\n",
       "    </tr>\n",
       "    <tr>\n",
       "      <th>4</th>\n",
       "      <td>2</td>\n",
       "      <td>22</td>\n",
       "      <td>Medialunas de Manteca</td>\n",
       "      <td>1</td>\n",
       "      <td>2,069</td>\n",
       "      <td>2,069</td>\n",
       "      <td>2,069</td>\n",
       "      <td>Medialunas de Manteca</td>\n",
       "      <td>Limpieza</td>\n",
       "      <td>2069</td>\n",
       "      <td>2024-03-17</td>\n",
       "      <td>49</td>\n",
       "      <td>Olivia Gomez</td>\n",
       "      <td>olivia.gomez@mail.com</td>\n",
       "      <td>qr</td>\n",
       "      <td>Olivia Gomez</td>\n",
       "      <td>olivia.gomez@mail.com</td>\n",
       "      <td>Rio Cuarto</td>\n",
       "      <td>2023-02-18</td>\n",
       "    </tr>\n",
       "  </tbody>\n",
       "</table>\n",
       "</div>"
      ],
      "text/plain": [
       "   id_venta  id_producto      nombre_producto_x  cantidad precio_unitario_x  \\\n",
       "0         1           90    Toallas Húmedas x50         1             2,902   \n",
       "1         2           82  Aceitunas Negras 200g         5             2,394   \n",
       "2         2           39     Helado Vainilla 1L         5               469   \n",
       "3         2           70           Fernet 750ml         2             4,061   \n",
       "4         2           22  Medialunas de Manteca         1             2,069   \n",
       "\n",
       "  importe                      total      nombre_producto_y  categoria  \\\n",
       "0   2,902                      2,902    Toallas Húmedas x50   Limpieza   \n",
       "1  11,970  2,3942,3942,3942,3942,394  Aceitunas Negras 200g   Limpieza   \n",
       "2   2,345            469469469469469     Helado Vainilla 1L  Alimentos   \n",
       "3   8,122                 4,0614,061           Fernet 750ml   Limpieza   \n",
       "4   2,069                      2,069  Medialunas de Manteca   Limpieza   \n",
       "\n",
       "   precio_unitario_y       fecha  id_cliente  nombre_cliente_x  \\\n",
       "0               2902  2024-06-19          62  Guadalupe Romero   \n",
       "1               2394  2024-03-17          49      Olivia Gomez   \n",
       "2                469  2024-03-17          49      Olivia Gomez   \n",
       "3               4061  2024-03-17          49      Olivia Gomez   \n",
       "4               2069  2024-03-17          49      Olivia Gomez   \n",
       "\n",
       "                     email_x medio_pago  nombre_cliente_y  \\\n",
       "0  guadalupe.romero@mail.com    tarjeta  Guadalupe Romero   \n",
       "1      olivia.gomez@mail.com         qr      Olivia Gomez   \n",
       "2      olivia.gomez@mail.com         qr      Olivia Gomez   \n",
       "3      olivia.gomez@mail.com         qr      Olivia Gomez   \n",
       "4      olivia.gomez@mail.com         qr      Olivia Gomez   \n",
       "\n",
       "                     email_y      ciudad  fecha_alta  \n",
       "0  guadalupe.romero@mail.com  Carlos Paz  2023-03-03  \n",
       "1      olivia.gomez@mail.com  Rio Cuarto  2023-02-18  \n",
       "2      olivia.gomez@mail.com  Rio Cuarto  2023-02-18  \n",
       "3      olivia.gomez@mail.com  Rio Cuarto  2023-02-18  \n",
       "4      olivia.gomez@mail.com  Rio Cuarto  2023-02-18  "
      ]
     },
     "execution_count": 19,
     "metadata": {},
     "output_type": "execute_result"
    }
   ],
   "source": [
    "# Unir detalle con productos\n",
    "detalle_prod = detalle.merge(productos, on=\"id_producto\", how=\"left\")\n",
    "\n",
    "# Unir con ventas\n",
    "ventas_completa = detalle_prod.merge(ventas, on=\"id_venta\", how=\"left\")\n",
    "\n",
    "# Unir con clientes\n",
    "ventas_completa = ventas_completa.merge(clientes, on=\"id_cliente\", how=\"left\")\n",
    "\n",
    "ventas_completa.head()"
   ]
  },
  {
   "cell_type": "code",
   "execution_count": 20,
   "id": "8ed55cf1",
   "metadata": {},
   "outputs": [
    {
     "name": "stdout",
     "output_type": "stream",
     "text": [
      "👥 CLIENTES:\n"
     ]
    },
    {
     "data": {
      "application/vnd.microsoft.datawrangler.viewer.v0+json": {
       "columns": [
        {
         "name": "index",
         "rawType": "int64",
         "type": "integer"
        },
        {
         "name": "id_cliente",
         "rawType": "int64",
         "type": "integer"
        },
        {
         "name": "nombre_cliente",
         "rawType": "object",
         "type": "string"
        },
        {
         "name": "email",
         "rawType": "object",
         "type": "string"
        },
        {
         "name": "ciudad",
         "rawType": "object",
         "type": "string"
        },
        {
         "name": "fecha_alta",
         "rawType": "object",
         "type": "string"
        }
       ],
       "ref": "be8a7cb4-02ba-49ca-97a4-29edf8eaf160",
       "rows": [
        [
         "0",
         "1",
         "Mariana Lopez",
         "mariana.lopez@mail.com",
         "Carlos Paz",
         "2023-01-01"
        ],
        [
         "1",
         "2",
         "Nicolas Rojas",
         "nicolas.rojas@mail.com",
         "Carlos Paz",
         "2023-01-02"
        ],
        [
         "2",
         "3",
         "Hernan Martinez",
         "hernan.martinez@mail.com",
         "Rio Cuarto",
         "2023-01-03"
        ],
        [
         "3",
         "4",
         "Uma Martinez",
         "uma.martinez@mail.com",
         "Carlos Paz",
         "2023-01-04"
        ],
        [
         "4",
         "5",
         "Agustina Flores",
         "agustina.flores@mail.com",
         "Cordoba",
         "2023-01-05"
        ]
       ],
       "shape": {
        "columns": 5,
        "rows": 5
       }
      },
      "text/html": [
       "<div>\n",
       "<style scoped>\n",
       "    .dataframe tbody tr th:only-of-type {\n",
       "        vertical-align: middle;\n",
       "    }\n",
       "\n",
       "    .dataframe tbody tr th {\n",
       "        vertical-align: top;\n",
       "    }\n",
       "\n",
       "    .dataframe thead th {\n",
       "        text-align: right;\n",
       "    }\n",
       "</style>\n",
       "<table border=\"1\" class=\"dataframe\">\n",
       "  <thead>\n",
       "    <tr style=\"text-align: right;\">\n",
       "      <th></th>\n",
       "      <th>id_cliente</th>\n",
       "      <th>nombre_cliente</th>\n",
       "      <th>email</th>\n",
       "      <th>ciudad</th>\n",
       "      <th>fecha_alta</th>\n",
       "    </tr>\n",
       "  </thead>\n",
       "  <tbody>\n",
       "    <tr>\n",
       "      <th>0</th>\n",
       "      <td>1</td>\n",
       "      <td>Mariana Lopez</td>\n",
       "      <td>mariana.lopez@mail.com</td>\n",
       "      <td>Carlos Paz</td>\n",
       "      <td>2023-01-01</td>\n",
       "    </tr>\n",
       "    <tr>\n",
       "      <th>1</th>\n",
       "      <td>2</td>\n",
       "      <td>Nicolas Rojas</td>\n",
       "      <td>nicolas.rojas@mail.com</td>\n",
       "      <td>Carlos Paz</td>\n",
       "      <td>2023-01-02</td>\n",
       "    </tr>\n",
       "    <tr>\n",
       "      <th>2</th>\n",
       "      <td>3</td>\n",
       "      <td>Hernan Martinez</td>\n",
       "      <td>hernan.martinez@mail.com</td>\n",
       "      <td>Rio Cuarto</td>\n",
       "      <td>2023-01-03</td>\n",
       "    </tr>\n",
       "    <tr>\n",
       "      <th>3</th>\n",
       "      <td>4</td>\n",
       "      <td>Uma Martinez</td>\n",
       "      <td>uma.martinez@mail.com</td>\n",
       "      <td>Carlos Paz</td>\n",
       "      <td>2023-01-04</td>\n",
       "    </tr>\n",
       "    <tr>\n",
       "      <th>4</th>\n",
       "      <td>5</td>\n",
       "      <td>Agustina Flores</td>\n",
       "      <td>agustina.flores@mail.com</td>\n",
       "      <td>Cordoba</td>\n",
       "      <td>2023-01-05</td>\n",
       "    </tr>\n",
       "  </tbody>\n",
       "</table>\n",
       "</div>"
      ],
      "text/plain": [
       "   id_cliente   nombre_cliente                     email      ciudad  \\\n",
       "0           1    Mariana Lopez    mariana.lopez@mail.com  Carlos Paz   \n",
       "1           2    Nicolas Rojas    nicolas.rojas@mail.com  Carlos Paz   \n",
       "2           3  Hernan Martinez  hernan.martinez@mail.com  Rio Cuarto   \n",
       "3           4     Uma Martinez     uma.martinez@mail.com  Carlos Paz   \n",
       "4           5  Agustina Flores  agustina.flores@mail.com     Cordoba   \n",
       "\n",
       "   fecha_alta  \n",
       "0  2023-01-01  \n",
       "1  2023-01-02  \n",
       "2  2023-01-03  \n",
       "3  2023-01-04  \n",
       "4  2023-01-05  "
      ]
     },
     "metadata": {},
     "output_type": "display_data"
    },
    {
     "name": "stdout",
     "output_type": "stream",
     "text": [
      "📦 PRODUCTOS:\n"
     ]
    },
    {
     "data": {
      "application/vnd.microsoft.datawrangler.viewer.v0+json": {
       "columns": [
        {
         "name": "index",
         "rawType": "int64",
         "type": "integer"
        },
        {
         "name": "id_producto",
         "rawType": "int64",
         "type": "integer"
        },
        {
         "name": "nombre_producto",
         "rawType": "object",
         "type": "string"
        },
        {
         "name": "categoria",
         "rawType": "object",
         "type": "string"
        },
        {
         "name": "precio_unitario",
         "rawType": "int64",
         "type": "integer"
        }
       ],
       "ref": "ce8e8fae-a031-4d55-a4b3-81aac4c7b34f",
       "rows": [
        [
         "0",
         "1",
         "Coca Cola 1.5L",
         "Alimentos",
         "2347"
        ],
        [
         "1",
         "2",
         "Pepsi 1.5L",
         "Limpieza",
         "4973"
        ],
        [
         "2",
         "3",
         "Sprite 1.5L",
         "Alimentos",
         "4964"
        ],
        [
         "3",
         "4",
         "Fanta Naranja 1.5L",
         "Limpieza",
         "2033"
        ],
        [
         "4",
         "5",
         "Agua Mineral 500ml",
         "Alimentos",
         "4777"
        ]
       ],
       "shape": {
        "columns": 4,
        "rows": 5
       }
      },
      "text/html": [
       "<div>\n",
       "<style scoped>\n",
       "    .dataframe tbody tr th:only-of-type {\n",
       "        vertical-align: middle;\n",
       "    }\n",
       "\n",
       "    .dataframe tbody tr th {\n",
       "        vertical-align: top;\n",
       "    }\n",
       "\n",
       "    .dataframe thead th {\n",
       "        text-align: right;\n",
       "    }\n",
       "</style>\n",
       "<table border=\"1\" class=\"dataframe\">\n",
       "  <thead>\n",
       "    <tr style=\"text-align: right;\">\n",
       "      <th></th>\n",
       "      <th>id_producto</th>\n",
       "      <th>nombre_producto</th>\n",
       "      <th>categoria</th>\n",
       "      <th>precio_unitario</th>\n",
       "    </tr>\n",
       "  </thead>\n",
       "  <tbody>\n",
       "    <tr>\n",
       "      <th>0</th>\n",
       "      <td>1</td>\n",
       "      <td>Coca Cola 1.5L</td>\n",
       "      <td>Alimentos</td>\n",
       "      <td>2347</td>\n",
       "    </tr>\n",
       "    <tr>\n",
       "      <th>1</th>\n",
       "      <td>2</td>\n",
       "      <td>Pepsi 1.5L</td>\n",
       "      <td>Limpieza</td>\n",
       "      <td>4973</td>\n",
       "    </tr>\n",
       "    <tr>\n",
       "      <th>2</th>\n",
       "      <td>3</td>\n",
       "      <td>Sprite 1.5L</td>\n",
       "      <td>Alimentos</td>\n",
       "      <td>4964</td>\n",
       "    </tr>\n",
       "    <tr>\n",
       "      <th>3</th>\n",
       "      <td>4</td>\n",
       "      <td>Fanta Naranja 1.5L</td>\n",
       "      <td>Limpieza</td>\n",
       "      <td>2033</td>\n",
       "    </tr>\n",
       "    <tr>\n",
       "      <th>4</th>\n",
       "      <td>5</td>\n",
       "      <td>Agua Mineral 500ml</td>\n",
       "      <td>Alimentos</td>\n",
       "      <td>4777</td>\n",
       "    </tr>\n",
       "  </tbody>\n",
       "</table>\n",
       "</div>"
      ],
      "text/plain": [
       "   id_producto     nombre_producto  categoria  precio_unitario\n",
       "0            1      Coca Cola 1.5L  Alimentos             2347\n",
       "1            2          Pepsi 1.5L   Limpieza             4973\n",
       "2            3         Sprite 1.5L  Alimentos             4964\n",
       "3            4  Fanta Naranja 1.5L   Limpieza             2033\n",
       "4            5  Agua Mineral 500ml  Alimentos             4777"
      ]
     },
     "metadata": {},
     "output_type": "display_data"
    },
    {
     "name": "stdout",
     "output_type": "stream",
     "text": [
      "🧾 VENTAS:\n"
     ]
    },
    {
     "data": {
      "application/vnd.microsoft.datawrangler.viewer.v0+json": {
       "columns": [
        {
         "name": "index",
         "rawType": "int64",
         "type": "integer"
        },
        {
         "name": "id_venta",
         "rawType": "int64",
         "type": "integer"
        },
        {
         "name": "fecha",
         "rawType": "object",
         "type": "string"
        },
        {
         "name": "id_cliente",
         "rawType": "int64",
         "type": "integer"
        },
        {
         "name": "nombre_cliente",
         "rawType": "object",
         "type": "string"
        },
        {
         "name": "email",
         "rawType": "object",
         "type": "string"
        },
        {
         "name": "medio_pago",
         "rawType": "object",
         "type": "string"
        }
       ],
       "ref": "17ecff26-42bf-4c51-af53-12da55e6057b",
       "rows": [
        [
         "0",
         "1",
         "2024-06-19",
         "62",
         "Guadalupe Romero",
         "guadalupe.romero@mail.com",
         "tarjeta"
        ],
        [
         "1",
         "2",
         "2024-03-17",
         "49",
         "Olivia Gomez",
         "olivia.gomez@mail.com",
         "qr"
        ],
        [
         "2",
         "3",
         "2024-01-13",
         "20",
         "Tomas Acosta",
         "tomas.acosta@mail.com",
         "tarjeta"
        ],
        [
         "3",
         "4",
         "2024-02-27",
         "36",
         "Martina Molina",
         "martina.molina@mail.com",
         "transferencia"
        ],
        [
         "4",
         "5",
         "2024-06-11",
         "56",
         "Bruno Diaz",
         "bruno.diaz@mail.com",
         "tarjeta"
        ]
       ],
       "shape": {
        "columns": 6,
        "rows": 5
       }
      },
      "text/html": [
       "<div>\n",
       "<style scoped>\n",
       "    .dataframe tbody tr th:only-of-type {\n",
       "        vertical-align: middle;\n",
       "    }\n",
       "\n",
       "    .dataframe tbody tr th {\n",
       "        vertical-align: top;\n",
       "    }\n",
       "\n",
       "    .dataframe thead th {\n",
       "        text-align: right;\n",
       "    }\n",
       "</style>\n",
       "<table border=\"1\" class=\"dataframe\">\n",
       "  <thead>\n",
       "    <tr style=\"text-align: right;\">\n",
       "      <th></th>\n",
       "      <th>id_venta</th>\n",
       "      <th>fecha</th>\n",
       "      <th>id_cliente</th>\n",
       "      <th>nombre_cliente</th>\n",
       "      <th>email</th>\n",
       "      <th>medio_pago</th>\n",
       "    </tr>\n",
       "  </thead>\n",
       "  <tbody>\n",
       "    <tr>\n",
       "      <th>0</th>\n",
       "      <td>1</td>\n",
       "      <td>2024-06-19</td>\n",
       "      <td>62</td>\n",
       "      <td>Guadalupe Romero</td>\n",
       "      <td>guadalupe.romero@mail.com</td>\n",
       "      <td>tarjeta</td>\n",
       "    </tr>\n",
       "    <tr>\n",
       "      <th>1</th>\n",
       "      <td>2</td>\n",
       "      <td>2024-03-17</td>\n",
       "      <td>49</td>\n",
       "      <td>Olivia Gomez</td>\n",
       "      <td>olivia.gomez@mail.com</td>\n",
       "      <td>qr</td>\n",
       "    </tr>\n",
       "    <tr>\n",
       "      <th>2</th>\n",
       "      <td>3</td>\n",
       "      <td>2024-01-13</td>\n",
       "      <td>20</td>\n",
       "      <td>Tomas Acosta</td>\n",
       "      <td>tomas.acosta@mail.com</td>\n",
       "      <td>tarjeta</td>\n",
       "    </tr>\n",
       "    <tr>\n",
       "      <th>3</th>\n",
       "      <td>4</td>\n",
       "      <td>2024-02-27</td>\n",
       "      <td>36</td>\n",
       "      <td>Martina Molina</td>\n",
       "      <td>martina.molina@mail.com</td>\n",
       "      <td>transferencia</td>\n",
       "    </tr>\n",
       "    <tr>\n",
       "      <th>4</th>\n",
       "      <td>5</td>\n",
       "      <td>2024-06-11</td>\n",
       "      <td>56</td>\n",
       "      <td>Bruno Diaz</td>\n",
       "      <td>bruno.diaz@mail.com</td>\n",
       "      <td>tarjeta</td>\n",
       "    </tr>\n",
       "  </tbody>\n",
       "</table>\n",
       "</div>"
      ],
      "text/plain": [
       "   id_venta       fecha  id_cliente    nombre_cliente  \\\n",
       "0         1  2024-06-19          62  Guadalupe Romero   \n",
       "1         2  2024-03-17          49      Olivia Gomez   \n",
       "2         3  2024-01-13          20      Tomas Acosta   \n",
       "3         4  2024-02-27          36    Martina Molina   \n",
       "4         5  2024-06-11          56        Bruno Diaz   \n",
       "\n",
       "                       email     medio_pago  \n",
       "0  guadalupe.romero@mail.com        tarjeta  \n",
       "1      olivia.gomez@mail.com             qr  \n",
       "2      tomas.acosta@mail.com        tarjeta  \n",
       "3    martina.molina@mail.com  transferencia  \n",
       "4        bruno.diaz@mail.com        tarjeta  "
      ]
     },
     "metadata": {},
     "output_type": "display_data"
    },
    {
     "name": "stdout",
     "output_type": "stream",
     "text": [
      "📋 DETALLE DE VENTAS:\n"
     ]
    },
    {
     "data": {
      "application/vnd.microsoft.datawrangler.viewer.v0+json": {
       "columns": [
        {
         "name": "index",
         "rawType": "int64",
         "type": "integer"
        },
        {
         "name": "id_venta",
         "rawType": "int64",
         "type": "integer"
        },
        {
         "name": "id_producto",
         "rawType": "int64",
         "type": "integer"
        },
        {
         "name": "nombre_producto",
         "rawType": "object",
         "type": "string"
        },
        {
         "name": "cantidad",
         "rawType": "int64",
         "type": "integer"
        },
        {
         "name": "precio_unitario",
         "rawType": "object",
         "type": "string"
        },
        {
         "name": "importe",
         "rawType": "object",
         "type": "string"
        },
        {
         "name": "total",
         "rawType": "object",
         "type": "string"
        }
       ],
       "ref": "753830ef-e517-4a8f-9b6c-b890323611c9",
       "rows": [
        [
         "0",
         "1",
         "90",
         "Toallas Húmedas x50",
         "1",
         "2,902",
         "2,902",
         "2,902"
        ],
        [
         "1",
         "2",
         "82",
         "Aceitunas Negras 200g",
         "5",
         "2,394",
         "11,970",
         "2,3942,3942,3942,3942,394"
        ],
        [
         "2",
         "2",
         "39",
         "Helado Vainilla 1L",
         "5",
         "469",
         "2,345",
         "469469469469469"
        ],
        [
         "3",
         "2",
         "70",
         "Fernet 750ml",
         "2",
         "4,061",
         "8,122",
         "4,0614,061"
        ],
        [
         "4",
         "2",
         "22",
         "Medialunas de Manteca",
         "1",
         "2,069",
         "2,069",
         "2,069"
        ]
       ],
       "shape": {
        "columns": 7,
        "rows": 5
       }
      },
      "text/html": [
       "<div>\n",
       "<style scoped>\n",
       "    .dataframe tbody tr th:only-of-type {\n",
       "        vertical-align: middle;\n",
       "    }\n",
       "\n",
       "    .dataframe tbody tr th {\n",
       "        vertical-align: top;\n",
       "    }\n",
       "\n",
       "    .dataframe thead th {\n",
       "        text-align: right;\n",
       "    }\n",
       "</style>\n",
       "<table border=\"1\" class=\"dataframe\">\n",
       "  <thead>\n",
       "    <tr style=\"text-align: right;\">\n",
       "      <th></th>\n",
       "      <th>id_venta</th>\n",
       "      <th>id_producto</th>\n",
       "      <th>nombre_producto</th>\n",
       "      <th>cantidad</th>\n",
       "      <th>precio_unitario</th>\n",
       "      <th>importe</th>\n",
       "      <th>total</th>\n",
       "    </tr>\n",
       "  </thead>\n",
       "  <tbody>\n",
       "    <tr>\n",
       "      <th>0</th>\n",
       "      <td>1</td>\n",
       "      <td>90</td>\n",
       "      <td>Toallas Húmedas x50</td>\n",
       "      <td>1</td>\n",
       "      <td>2,902</td>\n",
       "      <td>2,902</td>\n",
       "      <td>2,902</td>\n",
       "    </tr>\n",
       "    <tr>\n",
       "      <th>1</th>\n",
       "      <td>2</td>\n",
       "      <td>82</td>\n",
       "      <td>Aceitunas Negras 200g</td>\n",
       "      <td>5</td>\n",
       "      <td>2,394</td>\n",
       "      <td>11,970</td>\n",
       "      <td>2,3942,3942,3942,3942,394</td>\n",
       "    </tr>\n",
       "    <tr>\n",
       "      <th>2</th>\n",
       "      <td>2</td>\n",
       "      <td>39</td>\n",
       "      <td>Helado Vainilla 1L</td>\n",
       "      <td>5</td>\n",
       "      <td>469</td>\n",
       "      <td>2,345</td>\n",
       "      <td>469469469469469</td>\n",
       "    </tr>\n",
       "    <tr>\n",
       "      <th>3</th>\n",
       "      <td>2</td>\n",
       "      <td>70</td>\n",
       "      <td>Fernet 750ml</td>\n",
       "      <td>2</td>\n",
       "      <td>4,061</td>\n",
       "      <td>8,122</td>\n",
       "      <td>4,0614,061</td>\n",
       "    </tr>\n",
       "    <tr>\n",
       "      <th>4</th>\n",
       "      <td>2</td>\n",
       "      <td>22</td>\n",
       "      <td>Medialunas de Manteca</td>\n",
       "      <td>1</td>\n",
       "      <td>2,069</td>\n",
       "      <td>2,069</td>\n",
       "      <td>2,069</td>\n",
       "    </tr>\n",
       "  </tbody>\n",
       "</table>\n",
       "</div>"
      ],
      "text/plain": [
       "   id_venta  id_producto        nombre_producto  cantidad precio_unitario  \\\n",
       "0         1           90    Toallas Húmedas x50         1           2,902   \n",
       "1         2           82  Aceitunas Negras 200g         5           2,394   \n",
       "2         2           39     Helado Vainilla 1L         5             469   \n",
       "3         2           70           Fernet 750ml         2           4,061   \n",
       "4         2           22  Medialunas de Manteca         1           2,069   \n",
       "\n",
       "  importe                      total  \n",
       "0   2,902                      2,902  \n",
       "1  11,970  2,3942,3942,3942,3942,394  \n",
       "2   2,345            469469469469469  \n",
       "3   8,122                 4,0614,061  \n",
       "4   2,069                      2,069  "
      ]
     },
     "metadata": {},
     "output_type": "display_data"
    }
   ],
   "source": [
    "print(\"👥 CLIENTES:\")\n",
    "display(clientes.head())\n",
    "\n",
    "print(\"📦 PRODUCTOS:\")\n",
    "display(productos.head())\n",
    "\n",
    "print(\"🧾 VENTAS:\")\n",
    "display(ventas.head())\n",
    "\n",
    "print(\"📋 DETALLE DE VENTAS:\")\n",
    "display(detalle.head())"
   ]
  },
  {
   "cell_type": "markdown",
   "id": "ccbfe9eb",
   "metadata": {},
   "source": [
    "## 🔗 Combinación de Tablas\n",
    "\n",
    "Para analizar correctamente las ventas, combinaremos las tablas mediante sus claves:\n",
    "- `id_cliente`\n",
    "- `id_venta`\n",
    "- `id_producto`"
   ]
  },
  {
   "cell_type": "code",
   "execution_count": 16,
   "id": "686f1284",
   "metadata": {},
   "outputs": [
    {
     "name": "stdout",
     "output_type": "stream",
     "text": [
      "✅ Tablas combinadas correctamente.\n"
     ]
    },
    {
     "data": {
      "application/vnd.microsoft.datawrangler.viewer.v0+json": {
       "columns": [
        {
         "name": "index",
         "rawType": "int64",
         "type": "integer"
        },
        {
         "name": "id_venta",
         "rawType": "int64",
         "type": "integer"
        },
        {
         "name": "id_producto",
         "rawType": "int64",
         "type": "integer"
        },
        {
         "name": "nombre_producto_x",
         "rawType": "object",
         "type": "string"
        },
        {
         "name": "cantidad",
         "rawType": "int64",
         "type": "integer"
        },
        {
         "name": "precio_unitario_x",
         "rawType": "object",
         "type": "string"
        },
        {
         "name": "importe",
         "rawType": "object",
         "type": "string"
        },
        {
         "name": "fecha",
         "rawType": "object",
         "type": "string"
        },
        {
         "name": "id_cliente",
         "rawType": "int64",
         "type": "integer"
        },
        {
         "name": "nombre_cliente_x",
         "rawType": "object",
         "type": "string"
        },
        {
         "name": "email_x",
         "rawType": "object",
         "type": "string"
        },
        {
         "name": "medio_pago",
         "rawType": "object",
         "type": "string"
        },
        {
         "name": "nombre_producto_y",
         "rawType": "object",
         "type": "string"
        },
        {
         "name": "categoria",
         "rawType": "object",
         "type": "string"
        },
        {
         "name": "precio_unitario_y",
         "rawType": "int64",
         "type": "integer"
        },
        {
         "name": "nombre_cliente_y",
         "rawType": "object",
         "type": "string"
        },
        {
         "name": "email_y",
         "rawType": "object",
         "type": "string"
        },
        {
         "name": "ciudad",
         "rawType": "object",
         "type": "string"
        },
        {
         "name": "fecha_alta",
         "rawType": "object",
         "type": "string"
        }
       ],
       "ref": "bb9e5387-4beb-40ec-9e05-a0a313b26a4a",
       "rows": [
        [
         "0",
         "1",
         "90",
         "Toallas Húmedas x50",
         "1",
         "2,902",
         "2,902",
         "2024-06-19",
         "62",
         "Guadalupe Romero",
         "guadalupe.romero@mail.com",
         "tarjeta",
         "Toallas Húmedas x50",
         "Limpieza",
         "2902",
         "Guadalupe Romero",
         "guadalupe.romero@mail.com",
         "Carlos Paz",
         "2023-03-03"
        ],
        [
         "1",
         "2",
         "82",
         "Aceitunas Negras 200g",
         "5",
         "2,394",
         "11,970",
         "2024-03-17",
         "49",
         "Olivia Gomez",
         "olivia.gomez@mail.com",
         "qr",
         "Aceitunas Negras 200g",
         "Limpieza",
         "2394",
         "Olivia Gomez",
         "olivia.gomez@mail.com",
         "Rio Cuarto",
         "2023-02-18"
        ],
        [
         "2",
         "2",
         "39",
         "Helado Vainilla 1L",
         "5",
         "469",
         "2,345",
         "2024-03-17",
         "49",
         "Olivia Gomez",
         "olivia.gomez@mail.com",
         "qr",
         "Helado Vainilla 1L",
         "Alimentos",
         "469",
         "Olivia Gomez",
         "olivia.gomez@mail.com",
         "Rio Cuarto",
         "2023-02-18"
        ],
        [
         "3",
         "2",
         "70",
         "Fernet 750ml",
         "2",
         "4,061",
         "8,122",
         "2024-03-17",
         "49",
         "Olivia Gomez",
         "olivia.gomez@mail.com",
         "qr",
         "Fernet 750ml",
         "Limpieza",
         "4061",
         "Olivia Gomez",
         "olivia.gomez@mail.com",
         "Rio Cuarto",
         "2023-02-18"
        ],
        [
         "4",
         "2",
         "22",
         "Medialunas de Manteca",
         "1",
         "2,069",
         "2,069",
         "2024-03-17",
         "49",
         "Olivia Gomez",
         "olivia.gomez@mail.com",
         "qr",
         "Medialunas de Manteca",
         "Limpieza",
         "2069",
         "Olivia Gomez",
         "olivia.gomez@mail.com",
         "Rio Cuarto",
         "2023-02-18"
        ]
       ],
       "shape": {
        "columns": 18,
        "rows": 5
       }
      },
      "text/html": [
       "<div>\n",
       "<style scoped>\n",
       "    .dataframe tbody tr th:only-of-type {\n",
       "        vertical-align: middle;\n",
       "    }\n",
       "\n",
       "    .dataframe tbody tr th {\n",
       "        vertical-align: top;\n",
       "    }\n",
       "\n",
       "    .dataframe thead th {\n",
       "        text-align: right;\n",
       "    }\n",
       "</style>\n",
       "<table border=\"1\" class=\"dataframe\">\n",
       "  <thead>\n",
       "    <tr style=\"text-align: right;\">\n",
       "      <th></th>\n",
       "      <th>id_venta</th>\n",
       "      <th>id_producto</th>\n",
       "      <th>nombre_producto_x</th>\n",
       "      <th>cantidad</th>\n",
       "      <th>precio_unitario_x</th>\n",
       "      <th>importe</th>\n",
       "      <th>fecha</th>\n",
       "      <th>id_cliente</th>\n",
       "      <th>nombre_cliente_x</th>\n",
       "      <th>email_x</th>\n",
       "      <th>medio_pago</th>\n",
       "      <th>nombre_producto_y</th>\n",
       "      <th>categoria</th>\n",
       "      <th>precio_unitario_y</th>\n",
       "      <th>nombre_cliente_y</th>\n",
       "      <th>email_y</th>\n",
       "      <th>ciudad</th>\n",
       "      <th>fecha_alta</th>\n",
       "    </tr>\n",
       "  </thead>\n",
       "  <tbody>\n",
       "    <tr>\n",
       "      <th>0</th>\n",
       "      <td>1</td>\n",
       "      <td>90</td>\n",
       "      <td>Toallas Húmedas x50</td>\n",
       "      <td>1</td>\n",
       "      <td>2,902</td>\n",
       "      <td>2,902</td>\n",
       "      <td>2024-06-19</td>\n",
       "      <td>62</td>\n",
       "      <td>Guadalupe Romero</td>\n",
       "      <td>guadalupe.romero@mail.com</td>\n",
       "      <td>tarjeta</td>\n",
       "      <td>Toallas Húmedas x50</td>\n",
       "      <td>Limpieza</td>\n",
       "      <td>2902</td>\n",
       "      <td>Guadalupe Romero</td>\n",
       "      <td>guadalupe.romero@mail.com</td>\n",
       "      <td>Carlos Paz</td>\n",
       "      <td>2023-03-03</td>\n",
       "    </tr>\n",
       "    <tr>\n",
       "      <th>1</th>\n",
       "      <td>2</td>\n",
       "      <td>82</td>\n",
       "      <td>Aceitunas Negras 200g</td>\n",
       "      <td>5</td>\n",
       "      <td>2,394</td>\n",
       "      <td>11,970</td>\n",
       "      <td>2024-03-17</td>\n",
       "      <td>49</td>\n",
       "      <td>Olivia Gomez</td>\n",
       "      <td>olivia.gomez@mail.com</td>\n",
       "      <td>qr</td>\n",
       "      <td>Aceitunas Negras 200g</td>\n",
       "      <td>Limpieza</td>\n",
       "      <td>2394</td>\n",
       "      <td>Olivia Gomez</td>\n",
       "      <td>olivia.gomez@mail.com</td>\n",
       "      <td>Rio Cuarto</td>\n",
       "      <td>2023-02-18</td>\n",
       "    </tr>\n",
       "    <tr>\n",
       "      <th>2</th>\n",
       "      <td>2</td>\n",
       "      <td>39</td>\n",
       "      <td>Helado Vainilla 1L</td>\n",
       "      <td>5</td>\n",
       "      <td>469</td>\n",
       "      <td>2,345</td>\n",
       "      <td>2024-03-17</td>\n",
       "      <td>49</td>\n",
       "      <td>Olivia Gomez</td>\n",
       "      <td>olivia.gomez@mail.com</td>\n",
       "      <td>qr</td>\n",
       "      <td>Helado Vainilla 1L</td>\n",
       "      <td>Alimentos</td>\n",
       "      <td>469</td>\n",
       "      <td>Olivia Gomez</td>\n",
       "      <td>olivia.gomez@mail.com</td>\n",
       "      <td>Rio Cuarto</td>\n",
       "      <td>2023-02-18</td>\n",
       "    </tr>\n",
       "    <tr>\n",
       "      <th>3</th>\n",
       "      <td>2</td>\n",
       "      <td>70</td>\n",
       "      <td>Fernet 750ml</td>\n",
       "      <td>2</td>\n",
       "      <td>4,061</td>\n",
       "      <td>8,122</td>\n",
       "      <td>2024-03-17</td>\n",
       "      <td>49</td>\n",
       "      <td>Olivia Gomez</td>\n",
       "      <td>olivia.gomez@mail.com</td>\n",
       "      <td>qr</td>\n",
       "      <td>Fernet 750ml</td>\n",
       "      <td>Limpieza</td>\n",
       "      <td>4061</td>\n",
       "      <td>Olivia Gomez</td>\n",
       "      <td>olivia.gomez@mail.com</td>\n",
       "      <td>Rio Cuarto</td>\n",
       "      <td>2023-02-18</td>\n",
       "    </tr>\n",
       "    <tr>\n",
       "      <th>4</th>\n",
       "      <td>2</td>\n",
       "      <td>22</td>\n",
       "      <td>Medialunas de Manteca</td>\n",
       "      <td>1</td>\n",
       "      <td>2,069</td>\n",
       "      <td>2,069</td>\n",
       "      <td>2024-03-17</td>\n",
       "      <td>49</td>\n",
       "      <td>Olivia Gomez</td>\n",
       "      <td>olivia.gomez@mail.com</td>\n",
       "      <td>qr</td>\n",
       "      <td>Medialunas de Manteca</td>\n",
       "      <td>Limpieza</td>\n",
       "      <td>2069</td>\n",
       "      <td>Olivia Gomez</td>\n",
       "      <td>olivia.gomez@mail.com</td>\n",
       "      <td>Rio Cuarto</td>\n",
       "      <td>2023-02-18</td>\n",
       "    </tr>\n",
       "  </tbody>\n",
       "</table>\n",
       "</div>"
      ],
      "text/plain": [
       "   id_venta  id_producto      nombre_producto_x  cantidad precio_unitario_x  \\\n",
       "0         1           90    Toallas Húmedas x50         1             2,902   \n",
       "1         2           82  Aceitunas Negras 200g         5             2,394   \n",
       "2         2           39     Helado Vainilla 1L         5               469   \n",
       "3         2           70           Fernet 750ml         2             4,061   \n",
       "4         2           22  Medialunas de Manteca         1             2,069   \n",
       "\n",
       "  importe       fecha  id_cliente  nombre_cliente_x  \\\n",
       "0   2,902  2024-06-19          62  Guadalupe Romero   \n",
       "1  11,970  2024-03-17          49      Olivia Gomez   \n",
       "2   2,345  2024-03-17          49      Olivia Gomez   \n",
       "3   8,122  2024-03-17          49      Olivia Gomez   \n",
       "4   2,069  2024-03-17          49      Olivia Gomez   \n",
       "\n",
       "                     email_x medio_pago      nombre_producto_y  categoria  \\\n",
       "0  guadalupe.romero@mail.com    tarjeta    Toallas Húmedas x50   Limpieza   \n",
       "1      olivia.gomez@mail.com         qr  Aceitunas Negras 200g   Limpieza   \n",
       "2      olivia.gomez@mail.com         qr     Helado Vainilla 1L  Alimentos   \n",
       "3      olivia.gomez@mail.com         qr           Fernet 750ml   Limpieza   \n",
       "4      olivia.gomez@mail.com         qr  Medialunas de Manteca   Limpieza   \n",
       "\n",
       "   precio_unitario_y  nombre_cliente_y                    email_y      ciudad  \\\n",
       "0               2902  Guadalupe Romero  guadalupe.romero@mail.com  Carlos Paz   \n",
       "1               2394      Olivia Gomez      olivia.gomez@mail.com  Rio Cuarto   \n",
       "2                469      Olivia Gomez      olivia.gomez@mail.com  Rio Cuarto   \n",
       "3               4061      Olivia Gomez      olivia.gomez@mail.com  Rio Cuarto   \n",
       "4               2069      Olivia Gomez      olivia.gomez@mail.com  Rio Cuarto   \n",
       "\n",
       "   fecha_alta  \n",
       "0  2023-03-03  \n",
       "1  2023-02-18  \n",
       "2  2023-02-18  \n",
       "3  2023-02-18  \n",
       "4  2023-02-18  "
      ]
     },
     "metadata": {},
     "output_type": "display_data"
    }
   ],
   "source": [
    "ventas_detalle = pd.merge(detalle, ventas, on=\"id_venta\")\n",
    "ventas_completa = pd.merge(ventas_detalle, productos, on=\"id_producto\")\n",
    "ventas_completa = pd.merge(ventas_completa, clientes, on=\"id_cliente\")\n",
    "\n",
    "print(\"✅ Tablas combinadas correctamente.\")\n",
    "display(ventas_completa.head())"
   ]
  },
  {
   "cell_type": "markdown",
   "id": "678782da",
   "metadata": {},
   "source": [
    "## 💰 Venta Total del Proyecto Aurelion"
   ]
  },
  {
   "cell_type": "code",
   "execution_count": 17,
   "id": "c9b27fa1",
   "metadata": {},
   "outputs": [
    {
     "name": "stdout",
     "output_type": "stream",
     "text": [
      "Index(['id_venta', 'id_producto', 'nombre_producto_x', 'cantidad',\n",
      "       'precio_unitario_x', 'importe', 'fecha', 'id_cliente',\n",
      "       'nombre_cliente_x', 'email_x', 'medio_pago', 'nombre_producto_y',\n",
      "       'categoria', 'precio_unitario_y', 'nombre_cliente_y', 'email_y',\n",
      "       'ciudad', 'fecha_alta'],\n",
      "      dtype='object')\n"
     ]
    }
   ],
   "source": [
    "print(ventas_completa.columns)"
   ]
  },
  {
   "cell_type": "code",
   "execution_count": 22,
   "id": "8d549559",
   "metadata": {},
   "outputs": [
    {
     "name": "stdout",
     "output_type": "stream",
     "text": [
      "💵 Venta total: $8,858,341,870,794,534.00\n"
     ]
    }
   ],
   "source": [
    "# Convierte la columna \"total\" a numérica\n",
    "ventas_completa[\"total\"] = pd.to_numeric(ventas_completa[\"total\"], errors='coerce')\n",
    "\n",
    "# Ahora calculamos la venta total\n",
    "ventas_totales = ventas_completa[\"total\"].sum()\n",
    "print(f\"💵 Venta total: ${ventas_totales:,.2f}\")"
   ]
  },
  {
   "cell_type": "markdown",
   "id": "82dfb9de",
   "metadata": {},
   "source": [
    "## 🏆 Top 5 Productos Más Vendidos"
   ]
  },
  {
   "cell_type": "code",
   "execution_count": 24,
   "id": "d7cfc8ec",
   "metadata": {},
   "outputs": [
    {
     "name": "stderr",
     "output_type": "stream",
     "text": [
      "C:\\Users\\Luna\\AppData\\Roaming\\Python\\Python313\\site-packages\\IPython\\core\\pylabtools.py:170: UserWarning: Glyph 128230 (\\N{PACKAGE}) missing from font(s) Arial.\n",
      "  fig.canvas.print_figure(bytes_io, **kw)\n"
     ]
    },
    {
     "data": {
      "image/png": "[encoded data removed]",
      "text/plain": [
       "<Figure size 800x400 with 1 Axes>"
      ]
     },
     "metadata": {},
     "output_type": "display_data"
    }
   ],
   "source": [
    "top_productos = (ventas_completa.groupby(\"nombre_producto_x\")[\"cantidad\"]\n",
    "                 .sum()\n",
    "                 .sort_values(ascending=False)\n",
    "                 .head(5))\n",
    "\n",
    "top_productos.plot(kind=\"bar\")\n",
    "plt.title(\"📦 Top 5 Productos más Vendidos\")\n",
    "plt.xlabel(\"Producto\")\n",
    "plt.ylabel(\"Cantidad Vendida\")\n",
    "plt.show()\n"
   ]
  },
  {
   "cell_type": "markdown",
   "id": "b6fa885a",
   "metadata": {},
   "source": [
    "## 👥 Clientes con Mayor Monto de Compra"
   ]
  },
  {
   "cell_type": "code",
   "execution_count": 27,
   "id": "894ccebe",
   "metadata": {},
   "outputs": [
    {
     "data": {
      "image/png": "[encoded data removed]",
      "text/plain": [
       "<Figure size 800x400 with 1 Axes>"
      ]
     },
     "metadata": {},
     "output_type": "display_data"
    }
   ],
   "source": [
    "top_clientes = (\n",
    "    ventas_completa.groupby(\"nombre_cliente_x\")[\"total\"]\n",
    "    .sum()\n",
    "    .sort_values(ascending=False)\n",
    "    .head(5)\n",
    ")\n",
    "\n",
    "top_clientes.plot(kind=\"barh\", title=\"Top Clientes por Monto de Compra\", xlabel=\"Total $\", color=\"lightblue\" \\\n",
    "\"\")\n",
    "plt.show()"
   ]
  },
  {
   "cell_type": "markdown",
   "id": "28089dd0",
   "metadata": {},
   "source": [
    "## 📊 Indicadores Generales\n",
    "Un resumen con los principales KPIs del sistema de ventas."
   ]
  },
  {
   "cell_type": "code",
   "execution_count": 26,
   "id": "28463cdd",
   "metadata": {},
   "outputs": [
    {
     "name": "stdout",
     "output_type": "stream",
     "text": [
      "📊 INDICADORES CLAVE:\n",
      "- Total de ventas: $8,858,341,870,794,534.00\n",
      "- Total de clientes: 100\n",
      "- Total de productos vendidos: 1016\n",
      "- Promedio de venta por cliente: $88,583,418,707,945.34\n"
     ]
    }
   ],
   "source": [
    "total_clientes = clientes[\"id_cliente\"].nunique()\n",
    "total_productos_vendidos = ventas_completa[\"cantidad\"].sum()\n",
    "promedio_venta = ventas_totales / total_clientes\n",
    "\n",
    "print(\"📊 INDICADORES CLAVE:\")\n",
    "print(f\"- Total de ventas: ${ventas_totales:,.2f}\")\n",
    "print(f\"- Total de clientes: {total_clientes}\")\n",
    "print(f\"- Total de productos vendidos: {total_productos_vendidos}\")\n",
    "print(f\"- Promedio de venta por cliente: ${promedio_venta:,.2f}\")"
   ]
  },
  {
   "cell_type": "markdown",
   "id": "6ef73955",
   "metadata": {},
   "source": [
    "## 🎯 Conclusiones\n",
    "\n",
    "- Los productos más vendidos ayudan a definir estrategias de stock.  \n",
    "- Los clientes principales son clave para la fidelización.  \n",
    "- El análisis de ventas permite estimar ingresos y crecimiento del negocio.  \n",
    "\n",
    "📌 Este análisis puede ampliarse con dashboards interactivos usando **Plotly**, **Power BI** o **Tableau**."
   ]
  }
 ],
 "metadata": {
  "kernelspec": {
   "display_name": "Python 3",
   "language": "python",
   "name": "python3"
  },
  "language_info": {
   "codemirror_mode": {
    "name": "ipython",
    "version": 3
   },
   "file_extension": ".py",
   "mimetype": "text/x-python",
   "name": "python",
   "nbconvert_exporter": "python",
   "pygments_lexer": "ipython3",
   "version": "3.13.5"
  }
 },
 "nbformat": 4,
 "nbformat_minor": 5
}
